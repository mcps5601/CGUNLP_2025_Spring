{
  "cells": [
    {
      "cell_type": "markdown",
      "metadata": {
        "id": "qY1lXPCAJg2E"
      },
      "source": [
        "# BERT tutorial using Hugging Face\n",
        "## 教學目標\n",
        "利用 Hugging Face 套件快速使用 BERT 模型來進行下游任務訓練\n",
        "- 單一句型分類任務 (single-sentence text classification)"
      ]
    },
    {
      "cell_type": "markdown",
      "metadata": {
        "id": "SNg9uH2-Jg2H"
      },
      "source": [
        "## 適用對象\n",
        "已經有基本的機器學習知識，且擁有 Python、`numpy`、`pandas`、`scikit-learn` 以及 `PyTorch` 基礎的學生。\n",
        "\n",
        "若沒有先學過 Python，請參考 [python-入門語法](https://github.com/IKMLab/course_material/blob/master/python-入門語法.ipynb) 教學。\n",
        "\n",
        "若沒有先學過 `pandas`，請參考 [pandas-基本功能](https://github.com/IKMLab/course_material/blob/master/pandas-基本功能.ipynb) 教學。\n",
        "\n",
        "若沒有先學過 `numpy`，請參考 [numpy-基本功能](https://github.com/IKMLab/course_material/blob/master/numpy-基本功能.ipynb) 教學。\n",
        "\n",
        "若沒有先學過 `scikit-learn`，請參考 [scikit-learn-基本功能](https://github.com/IKMLab/course_material/blob/master/scikit-learn-基本功能.ipynb) 教學。\n",
        "\n",
        "若沒有先學過  `PyTorch` ，請參考 [PyTorch-基本功能](https://github.com/IKMLab/course_material/blob/master/PyTorch-基本功能.ipynb) 教學。\n",
        "\n",
        "若沒有先學過如何使用 `PyTorch` 建立自然語言處理序列模型，請參考 [NN-中文文本分類](https://github.com/IKMLab/course_material/blob/master/NN-中文文本分類.ipynb) 教學。"
      ]
    },
    {
      "cell_type": "markdown",
      "metadata": {
        "id": "wYSdGFduJg2H"
      },
      "source": [
        "## BERT 簡易介紹\n",
        "### Word embeddings 的問題\n",
        "![Imgur](https://i.imgur.com/h6U5k41.png)\n",
        "- 每個單詞的意思在不同的場合下應該有不同的意義表達\n",
        "- 我們可以利用 RNN 作為語言模型，透過語言模型的輸入與輸出的處理來產生能夠理解上下文語意的 contextual embeddings\n",
        "    - Language model: 語言模型，藉由估計(或最佳化)一整個序列的生成機率來輸出字詞的模型\n",
        "        - 可以參考 [language model 的詳細教學](https://youtu.be/LheoxKjeop8?t=50)\n",
        "- 藉由此種做法，我們可以將單詞語意的 word embeddings 轉換為具有上下文語意的 contextual embeddings"
      ]
    },
    {
      "cell_type": "markdown",
      "metadata": {
        "id": "7n0nQj0qJg2I"
      },
      "source": [
        "## 所以什麼是 BERT?\n",
        "- 請參考理論層面的詳細教學 ([影片連結](https://www.youtube.com/watch?v=gh0hewYkjgo))\n",
        "- 想進行 PyTorch 的 BERT 實作來獲得深入理解可以參考 ([網誌連結](https://leemeng.tw/attack_on_bert_transfer_learning_in_nlp.html))\n",
        "- 也可以參考 Jay Alammar 的 The Illustrated BERT ([網誌連結](https://jalammar.github.io/illustrated-bert/))\n",
        "- 也可以參考原始論文 ([論文連結](https://www.aclweb.org/anthology/N19-1423/))"
      ]
    },
    {
      "cell_type": "markdown",
      "metadata": {
        "id": "p2Je-RIxJg2I"
      },
      "source": [
        "### BERT 的 Pre-training 和 Fine-tuning 與先前方法比較\n",
        "![Imgur](https://i.imgur.com/qfLhUaG.png)\n",
        "- Pre-training 已經是 NLP 領域中不可或缺的方法\n",
        "- 像 BERT 這類基於 Transformers 的[模型非常多](http://speech.ee.ntu.edu.tw/~tlkagk/courses/DLHLP20/BERT%20train%20(v8).pdf)，可以前往 [Hugging Face models](https://huggingface.co/models) 一覽究竟"
      ]
    },
    {
      "cell_type": "markdown",
      "metadata": {
        "id": "OT5oltZrJg2J"
      },
      "source": [
        "## Hugging Face 介紹\n",
        "- 🤗 Hugging Face 是專門提供自然語言處理領域的函式庫\n",
        "- 其函式庫支援 PyTorch 和 TensorFlow\n",
        "- 🤗 Hugging Face 的主要套件為:\n",
        "    1. Transformers ([連結](https://huggingface.co/transformers/index.html))\n",
        "    - 提供了現今最強大的自然語言處理模型，使用上非常彈性且方便\n",
        "    2. Tokenizers ([連結](https://huggingface.co/docs/tokenizers/python/latest/))\n",
        "    - 讓你可以快速做好 BERT 系列模型 tokenization\n",
        "    3. Datasets ([連結](https://huggingface.co/docs/datasets/))\n",
        "    - 提供多種自然語言處理任務的資料集"
      ]
    },
    {
      "cell_type": "code",
      "execution_count": null,
      "metadata": {
        "id": "TUjyDQ-qJg2J"
      },
      "outputs": [],
      "source": [
        "# !pip install torch==2.4.0\n",
        "# !pip install transformers==4.37.0\n",
        "!pip install datasets\n",
        "# !pip install accelerate==0.21.0\n",
        "# !pip install scikit-learn==1.5.2\n",
        "!pip install wget\n",
        "# !pip install tarfile"
      ]
    },
    {
      "cell_type": "code",
      "execution_count": null,
      "metadata": {
        "id": "Z3tiYaLoJg2K"
      },
      "outputs": [],
      "source": [
        "# 1. Check the versions of your packages\n",
        "import torch\n",
        "print(f\"PyTorch version: {torch.__version__}\")\n",
        "\n",
        "import transformers\n",
        "print(f\"Hugging Face Transformers version: {transformers.__version__}\")\n",
        "\n",
        "import datasets\n",
        "print(f\"Hugging Face Datasets version: {datasets.__version__}\")"
      ]
    },
    {
      "cell_type": "code",
      "execution_count": null,
      "metadata": {
        "id": "s-JMEX4oJg2L"
      },
      "outputs": [],
      "source": [
        "import os\n",
        "import json\n",
        "import numpy as np\n",
        "from pathlib import Path # (Python3.4+)"
      ]
    },
    {
      "cell_type": "markdown",
      "metadata": {
        "id": "ZpZYuEYpJg2M"
      },
      "source": [
        "# 單一句型分類任務 (single-sentence text classification)\n",
        "## 準備資料集 (需先下載)\n",
        "我們使用 IMDb reviews 資料集作為範例"
      ]
    },
    {
      "cell_type": "code",
      "execution_count": null,
      "metadata": {
        "id": "-NyUXdw-Jg2M"
      },
      "outputs": [],
      "source": [
        "# 下載 IMDb 資料集\n",
        "import wget\n",
        "url = 'http://ai.stanford.edu/~amaas/data/sentiment/aclImdb_v1.tar.gz'\n",
        "filename = wget.download(url, out='./')"
      ]
    },
    {
      "cell_type": "code",
      "execution_count": null,
      "metadata": {
        "id": "Be-MEg3mJg2M"
      },
      "outputs": [],
      "source": [
        "# 解壓縮 IMDb 資料集\n",
        "\n",
        "import tarfile\n",
        "\n",
        "# 指定檔案位置，並解壓縮 .gz 結尾的壓縮檔\n",
        "tar = tarfile.open('aclImdb_v1.tar.gz', 'r:gz')\n",
        "tar.extractall()"
      ]
    },
    {
      "cell_type": "markdown",
      "metadata": {
        "id": "je_x5Wa-Jg2N"
      },
      "source": [
        "## 接下來我們要進行資料前處理\n",
        "但首先要觀察解壓縮後的資料夾結構:\n",
        "```\n",
        "aclImdb---\n",
        "        |--train\n",
        "        |    |--neg\n",
        "        |    |--pos\n",
        "        |    |--...\n",
        "        |--test\n",
        "        |    |--neg\n",
        "        |    |--pos\n",
        "        |    |--...\n",
        "        |--imdb.vocab\n",
        "        |--imdbEr.text\n",
        "        |--README\n",
        "```\n",
        "其中 train 和 test 資料夾中分別又有 neg 和 pos 兩種資料夾\n",
        "\n",
        "我們要針對這兩個目標資料夾進行處理"
      ]
    },
    {
      "cell_type": "code",
      "execution_count": null,
      "metadata": {
        "id": "nPGum-cuJg2N"
      },
      "outputs": [],
      "source": [
        "# Create a function to pre-process the IMDb dataset\n",
        "def read_imdb_split(split_dir):\n",
        "    split_dir = Path(split_dir)\n",
        "    texts, labels = [], []\n",
        "    for label_dir in [\"pos\", \"neg\"]:\n",
        "        # Use glob() to get files with the extension \".txt\"\n",
        "        for text_file in (split_dir/label_dir).glob(\"*.txt\"):\n",
        "            # read_text() returns the decoded contents of the pointed-to file as a string\n",
        "            tmp_text = text_file.read_text()\n",
        "\n",
        "            # Append the read text to the list we defined in advance\n",
        "            texts.append(tmp_text)\n",
        "\n",
        "            # Build labels based on the folder name\n",
        "            labels.append(0 if label_dir == \"neg\" else 1)\n",
        "\n",
        "    return texts, labels"
      ]
    },
    {
      "cell_type": "code",
      "execution_count": null,
      "metadata": {
        "id": "yaFWBwWTJg2N"
      },
      "outputs": [],
      "source": [
        "# Pre-process the IMDb dataset (execution)\n",
        "\n",
        "train_texts, train_labels = read_imdb_split('aclImdb/train')\n",
        "test_texts, test_labels = read_imdb_split('aclImdb/test')"
      ]
    },
    {
      "cell_type": "markdown",
      "metadata": {
        "id": "LR_fGzKyJg2N"
      },
      "source": [
        "### 切分訓練資料，來分出 validation set"
      ]
    },
    {
      "cell_type": "code",
      "execution_count": null,
      "metadata": {
        "id": "Ikvd4SfUJg2N"
      },
      "outputs": [],
      "source": [
        "# Use train_test_split to split the training data into training and validation data\n",
        "from sklearn.model_selection import train_test_split\n",
        "\n",
        "# Set a random seed for reproducibility\n",
        "random_seed = 42\n",
        "\n",
        "# Set the ratio of the validation set to the training set\n",
        "valid_ratio = 0.2\n",
        "\n",
        "train_texts, val_texts, train_labels, val_labels = train_test_split(\n",
        "    train_texts,\n",
        "    train_labels,\n",
        "    test_size=valid_ratio,\n",
        "    random_state=random_seed\n",
        ")"
      ]
    },
    {
      "cell_type": "markdown",
      "metadata": {
        "id": "Vl-ti6RvJg2N"
      },
      "source": [
        "## 輸入 BERT 的前處理\n",
        "![Imgur](https://i.imgur.com/3C7xDlf.png)\n",
        "(圖片來源: BERT [原始論文](https://www.aclweb.org/anthology/N19-1423/))"
      ]
    },
    {
      "cell_type": "markdown",
      "metadata": {
        "id": "084CRnJqJg2N"
      },
      "source": [
        "### Tokenization\n",
        "- 斷字的部份以 DistilBERT (Sanh et al., 2019) 的 tokenizer 為例\n",
        "- Hugging Face 的 tokenizer 可以直接幫你自動將資料轉換成 BERT 的輸入型式 (也就是加入[CLS]和[SEP] tokens)"
      ]
    },
    {
      "cell_type": "markdown",
      "metadata": {
        "id": "dW2UFRcGJg2N"
      },
      "source": [
        "## Hugging Face AutoTokenizer\n",
        "- 使用 AutoTokenizer 搭配 Hugging Face models 的名稱可以直接呼叫使用\n",
        "- 舉例:\n",
        "    - transformers.AutoTokenizer.from_pretrained('distilbert-base-uncased')\n",
        "    - 等同於 transformers.DistilBertTokenizer.from_pretrained('distilbert-base-uncased')\n",
        "- [點這裡來查看 Hugging Face models 的名稱](https://huggingface.co/transformers/pretrained_models.html)"
      ]
    },
    {
      "cell_type": "code",
      "execution_count": null,
      "metadata": {
        "id": "smRMfe1RJg2N"
      },
      "outputs": [],
      "source": [
        "# Load the Hugging Face tokenizer\n",
        "\n",
        "model_name = \"bert-base-uncased\"\n",
        "# Use .from_pretrained() for a pre-trained model\n",
        "tokenizer = transformers.AutoTokenizer.from_pretrained(model_name)"
      ]
    },
    {
      "cell_type": "code",
      "execution_count": null,
      "metadata": {
        "id": "9wB1drpFJg2N"
      },
      "outputs": [],
      "source": [
        "# Perform tokenization for the train / val / test datas\n",
        "# truncation: 代表依照 max_length 進行序列長度的裁切\n",
        "# max_length 可以在 tokenizer 的 parameters 中進行設定\n",
        "# 如果沒有指定 max_length，則依照所使用的模型的序列最大長度\n",
        "# padding 為 True 表示會將序列長度補齊至該 batch 的最大長度 (欲知詳情請查看 source code)\n",
        "\n",
        "train_encodings = tokenizer(train_texts, truncation=True, padding=True)\n",
        "val_encodings = tokenizer(val_texts, truncation=True, padding=True)\n",
        "test_encodings = tokenizer(test_texts, truncation=True, padding=True)\n",
        "\n",
        "# 但這樣的話所有的句子都會被 padded 到一樣的長度"
      ]
    },
    {
      "cell_type": "code",
      "execution_count": null,
      "metadata": {
        "id": "VDGsIlStJg2O"
      },
      "outputs": [],
      "source": [
        "# 查看 max_length\n",
        "\n",
        "tokenizer.model_max_length"
      ]
    },
    {
      "cell_type": "code",
      "source": [
        "# 查看 tokenizer 的功能\n",
        "\n",
        "tokenizer_methods = dir(tokenizer)\n",
        "\n",
        "# Group them into rows for better readability\n",
        "for i in range(0, len(tokenizer_methods), 5):\n",
        "    print(\", \".join(tokenizer_methods[i:i+5]))\n",
        "    tokenizer_methods = dir(tokenizer)"
      ],
      "metadata": {
        "id": "Egy0r5Gkc4lN"
      },
      "execution_count": null,
      "outputs": []
    },
    {
      "cell_type": "code",
      "execution_count": null,
      "metadata": {
        "id": "76aDSEWVJg2O"
      },
      "outputs": [],
      "source": [
        "# 查看 [CLS] token 和 [SEP] token 在字典中的 ID\n",
        "\n",
        "print(\"The ID of [CLS] token is {}.\".format(tokenizer.vocab[\"[CLS]\"]))\n",
        "print(\"The ID of [SEP] token is {}.\".format(tokenizer.vocab[\"[SEP]\"]))\n",
        "print(\"The ID of [PAD] token is {}.\".format(tokenizer.vocab[\"[PAD]\"]))"
      ]
    },
    {
      "cell_type": "code",
      "source": [
        "# 查看 output encodings 的 key 值內容\n",
        "\n",
        "print(val_encodings.keys())"
      ],
      "metadata": {
        "id": "hEBy_LVNeAqC"
      },
      "execution_count": null,
      "outputs": []
    },
    {
      "cell_type": "code",
      "source": [
        "# 查看 output encodings 是什麼型態\n",
        "\n",
        "print(type(val_encodings))"
      ],
      "metadata": {
        "id": "-o7LHsjheKpF"
      },
      "execution_count": null,
      "outputs": []
    },
    {
      "cell_type": "markdown",
      "metadata": {
        "id": "hfGCHkFpJg2O"
      },
      "source": [
        "### 檢查 tokenization 後的結果\n",
        "- 使用 Hugging Face tokenizer 進行 tokenization 後的結果是一個 dict\n",
        "- 這個 dict 的 keys 包含 'input_ids' 和 'attention_mask'\n",
        "- input_ids: 原本句子中的每個字詞被斷詞後轉換成字典的 ID\n",
        "    - 注意!! tokenizer 小小的動作已經幫你完成了斷詞和 word to ID 的轉換\n",
        "- attention_mask: tokenization 後句子中包含文字的部分為 1，padding 的部分為 0\n",
        "    - 可以想像成模型需要把注意力放在有文字的位置"
      ]
    },
    {
      "cell_type": "code",
      "execution_count": null,
      "metadata": {
        "id": "9Bm0BoZIJg2O"
      },
      "outputs": [],
      "source": [
        "# 檢查 tokenization 後的結果\n",
        "\n",
        "print(val_encodings.input_ids[0])\n",
        "print(val_encodings.token_type_ids[0])\n",
        "print(val_encodings.attention_mask[0])"
      ]
    },
    {
      "cell_type": "code",
      "execution_count": null,
      "metadata": {
        "id": "hlrnqw9xJg2O"
      },
      "outputs": [],
      "source": [
        "class IMDbDataset(torch.utils.data.Dataset):\n",
        "    def __init__(self, encodings, labels):\n",
        "        self.encodings = encodings\n",
        "        self.labels = labels\n",
        "\n",
        "    def __getitem__(self, idx):\n",
        "        # Note that the tokenizer output is a dict wrapper\n",
        "        # Convert data and labels into PyTorch tensors\n",
        "        item = {key: torch.tensor(val[idx]) for key, val in self.encodings.items()}\n",
        "        item['labels'] = torch.tensor(self.labels[idx])\n",
        "\n",
        "        return item\n",
        "\n",
        "    def __len__(self):\n",
        "        # Number of a dataset\n",
        "        return len(self.labels)\n",
        "\n",
        "train_dataset = IMDbDataset(train_encodings, train_labels)\n",
        "val_dataset = IMDbDataset(val_encodings, val_labels)\n",
        "test_dataset = IMDbDataset(test_encodings, test_labels)"
      ]
    },
    {
      "cell_type": "markdown",
      "metadata": {
        "id": "rlHobatFJg2O"
      },
      "source": [
        "### 除了自己處理資料，你還可以使用 Hugging Face Datasets\n",
        "- Hugging Face Datasets 已經幫你收錄了自然語言處理領域常見的資料集\n",
        "- 直接呼叫 Datasets 並搭配下面幾個 cells 的語法，可省下不少時間\n",
        "- 但前提是你要進行的任務資料集有被收錄在 Hugging Face Datasets"
      ]
    },
    {
      "cell_type": "code",
      "execution_count": null,
      "metadata": {
        "id": "o5nX6CEYJg2O"
      },
      "outputs": [],
      "source": [
        "# Load the IMDb training set\n",
        "train = datasets.load_dataset(\"imdb\", split=\"train\")\n",
        "\n",
        "# Split the validation set\n",
        "random_seed = 42\n",
        "splits = train.train_test_split(\n",
        "    test_size=0.2,\n",
        "    seed=random_seed\n",
        ")\n",
        "train, valid = splits['train'], splits['test']\n",
        "\n",
        "# Load the IMDb test set\n",
        "test = datasets.load_dataset(\"imdb\", split=\"test\")"
      ]
    },
    {
      "cell_type": "code",
      "execution_count": null,
      "metadata": {
        "id": "mOT5JmqFJg2O"
      },
      "outputs": [],
      "source": [
        "def to_torch_data(hug_dataset):\n",
        "    \"\"\"Transform Hugging Face Datasets into PyTorch Dataset\n",
        "    Args:\n",
        "        - hug_dataset: data loaded from HF Datasets\n",
        "    Return:\n",
        "        - dataset: PyTorch Dataset\n",
        "    \"\"\"\n",
        "    dataset = hug_dataset.map(\n",
        "        lambda batch: tokenizer(\n",
        "            batch[\"text\"],\n",
        "            truncation=True,\n",
        "            padding=True\n",
        "        ),\n",
        "        batched=True\n",
        "    )\n",
        "    # dataset.set_format(\n",
        "    #     type='torch',\n",
        "    #     columns=[\n",
        "    #         'input_ids',\n",
        "    #         'attention_mask',\n",
        "    #         'label'\n",
        "    #     ]\n",
        "    # )\n",
        "    return dataset"
      ]
    },
    {
      "cell_type": "code",
      "execution_count": null,
      "metadata": {
        "id": "4I1PF4EDaVOY"
      },
      "outputs": [],
      "source": [
        "train_dataset = to_torch_data(train)\n",
        "val_dataset = to_torch_data(valid)\n",
        "test_dataset = to_torch_data(test)"
      ]
    },
    {
      "cell_type": "code",
      "source": [
        "print(train_dataset.format['type'])"
      ],
      "metadata": {
        "id": "dfq-qR4jh6qZ"
      },
      "execution_count": null,
      "outputs": []
    },
    {
      "cell_type": "markdown",
      "metadata": {
        "id": "7MF4ZQrNJg2O"
      },
      "source": [
        "## 使用 Hugging Face 的模型\n",
        "- 在這個 API 盛行的世代，總是有人幫你設想周到\n",
        "- [Hugging Face 的模型頁面連結](https://huggingface.co/models)\n",
        "- 以 BERT 為例，只要透過 AutoModel.from_pretrained(\"bert-base-uncased\")，就可以直接使用 BertModel\n",
        "- 需要注意的是接下來你要做怎樣的下游任務訓練\n",
        "- 同樣以 BERT 為例，在原始論文中 BERT 進行過以下的任務:\n",
        "    - Sentence pair classification: MNLI/QQP/QNLI/MRPC/RTE/WNLI\n",
        "        - 對應 `BertForSequenceClassification`\n",
        "        - 使用雙句結合，並以分類的方式進行訓練\n",
        "    - Semantic textual similarity: STS-B\n",
        "        - `BertForSequenceClassification`\n",
        "        - 使用雙句結合，並以迴歸的方式進行訓練\n",
        "    - Single sentence classification: SST-2/CoLA\n",
        "        - 對應 `BertForSequenceClassification`\n",
        "        - 使用單句，並以迴歸的方式進行訓練\n",
        "    - Question answering: SQuAD v1.1/v2.0\n",
        "        - 對應 `BertForQuestionAnswering`\n",
        "        - 使用雙句(問題+原文)，並透過答案在原文中的位置進行訓練\n",
        "    - Named-entity recognition (slot filling): CoNLL-2003\n",
        "        - 對應 `BertForTokenClassification`\n",
        "        - 使用單句，並以分類的方式進行訓練\n",
        "- 如果要進行的下游任務訓練不在 Hugging Face 已經建好的模型範圍，那就需要自己寫一個 model class:\n",
        "    1. 繼承 torch.nn.Module\n",
        "    2. 利用 super 來繼承所有親屬類別的實體屬性\n",
        "    3. 定義欲使用的 pre-trained model\n",
        "    4. 定義會使用到的層如 linear 或 Dropout 等\n",
        "    5. 設計 forward function 並且設定下游任務的輸出"
      ]
    },
    {
      "cell_type": "code",
      "execution_count": null,
      "metadata": {
        "id": "XeyIxdSsJg2O"
      },
      "outputs": [],
      "source": [
        "# 利用 AutoModel 呼叫模型\n",
        "model = transformers.AutoModelForSequenceClassification.from_pretrained(\n",
        "    \"bert-base-uncased\",\n",
        "    num_labels=3,\n",
        "    # problem_type=\"single_label_classification\"\n",
        ")"
      ]
    },
    {
      "cell_type": "code",
      "source": [
        "print(model.config.problem_type)"
      ],
      "metadata": {
        "id": "q4JXd3FAhZAq"
      },
      "execution_count": null,
      "outputs": []
    },
    {
      "cell_type": "markdown",
      "metadata": {
        "id": "2sFWgVD0Jg2P"
      },
      "source": [
        "## 進行模型的訓練\n",
        "### 使用 Hugging Face Trainer ([Documentation](https://huggingface.co/transformers/main_classes/trainer.html))\n",
        "- Trainer 是 Hugging Face 中高度封裝的套件之一，負責模型訓練時期的\"流程\"\n",
        "- 過去我們自行寫訓練流程的程式碼可以交給 Trainer\n",
        "- Trainer 需要搭配使用 [TrainingArguments](https://huggingface.co/transformers/main_classes/trainer.html#transformers.TrainingArguments)\n",
        "    - TrainingArguments 是 Trainer 所需要的引數"
      ]
    },
    {
      "cell_type": "code",
      "execution_count": null,
      "metadata": {
        "id": "KZgSNytdJg2P"
      },
      "outputs": [],
      "source": [
        "from sklearn.metrics import accuracy_score, precision_recall_fscore_support\n",
        "\n",
        "def compute_metrics(pred):\n",
        "    labels = pred.label_ids\n",
        "    preds = np.argmax(pred.predictions, axis=1)\n",
        "    precision, recall, f1, _ = precision_recall_fscore_support(labels, preds, average='binary')\n",
        "    acc = accuracy_score(labels, preds)\n",
        "    return {\n",
        "        'accuracy': acc,\n",
        "        'f1': f1,\n",
        "        'precision': precision,\n",
        "        'recall': recall\n",
        "    }"
      ]
    },
    {
      "cell_type": "code",
      "execution_count": null,
      "metadata": {
        "id": "i5oaU6rHaBB7"
      },
      "outputs": [],
      "source": [
        "!pip install --upgrade accelerate"
      ]
    },
    {
      "cell_type": "code",
      "execution_count": null,
      "metadata": {
        "id": "wHfKgmDjJg2U"
      },
      "outputs": [],
      "source": [
        "training_args = transformers.TrainingArguments(\n",
        "    output_dir='./results',            # 輸出的資料夾\n",
        "    num_train_epochs=3,                # 總共要訓練多少 epochs\n",
        "    learning_rate=2e-5,                # learning rate\n",
        "    per_device_train_batch_size=16,    # training 時的 batch size，if 2 GPUs: 32\n",
        "    per_device_eval_batch_size=64,     # test 時的 batch size，if 2 GPUs: 128\n",
        "    gradient_accumulation_steps=2,     # 梯度累積次數 (代表多少個 steps 才會更新一次模型)\n",
        "    lr_scheduler_type='linear',        # Learning rate 在 warmup_steps 中上升後下降\n",
        "    warmup_steps=500,                  # Learning rate 從零緩慢上升的 steps\n",
        "    weight_decay=0.01,                 # hyperparameter for optimizer\n",
        "    evaluation_strategy='steps',       # time unit to perform evaluation\n",
        "    save_strategy='steps',             # time unit to save checkpoints\n",
        "    save_steps=500,                    # how often to save checkpoints\n",
        "    eval_steps=500,                    # how often to perform evaluation\n",
        "    load_best_model_at_end=True,       # if loading the best checkpoint at the end of training\n",
        "    metric_for_best_model='eval_loss', # how to judge the best model\n",
        "    report_to='tensorboard',           # if saving TensorBoard records\n",
        "    save_total_limit=10,               # maximum number of saved checkpoints\n",
        "    logging_dir='./logs',              # folder for logs\n",
        "    logging_steps=10,                  # how often to save logs\n",
        "    seed=random_seed                   # for reproducibility control\n",
        ")\n",
        "\n",
        "trainer = transformers.Trainer(\n",
        "    model=model,                         # 🤗 model\n",
        "    args=training_args,                  # the `TrainingArguments` you set\n",
        "    train_dataset=train_dataset,         # the training dataset\n",
        "    eval_dataset=val_dataset,            # the evaluation dataset\n",
        "    compute_metrics=compute_metrics      # evaluation metric\n",
        ")\n",
        "\n",
        "# Use 1 GPU for training\n",
        "trainer.args._n_gpu=1\n",
        "\n",
        "# start training\n",
        "trainer.train()"
      ]
    },
    {
      "cell_type": "code",
      "source": [
        "%load_ext tensorboard\n",
        "%tensorboard --logdir ./logs"
      ],
      "metadata": {
        "id": "qlJK6jMskXg2"
      },
      "execution_count": null,
      "outputs": []
    },
    {
      "cell_type": "code",
      "execution_count": null,
      "metadata": {
        "id": "c_kNcENTJg2U"
      },
      "outputs": [],
      "source": [
        "# 測試模型\n",
        "\n",
        "trainer.predict(test_dataset)"
      ]
    }
  ],
  "metadata": {
    "accelerator": "GPU",
    "colab": {
      "gpuType": "T4",
      "provenance": []
    },
    "gpuClass": "standard",
    "kernelspec": {
      "display_name": "Python 3 (ipykernel)",
      "language": "python",
      "name": "python3"
    },
    "language_info": {
      "codemirror_mode": {
        "name": "ipython",
        "version": 3
      },
      "file_extension": ".py",
      "mimetype": "text/x-python",
      "name": "python",
      "nbconvert_exporter": "python",
      "pygments_lexer": "ipython3",
      "version": "3.9.5"
    }
  },
  "nbformat": 4,
  "nbformat_minor": 0
}