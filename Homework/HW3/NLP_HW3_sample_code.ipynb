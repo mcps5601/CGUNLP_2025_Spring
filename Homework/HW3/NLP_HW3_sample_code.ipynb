{
  "nbformat": 4,
  "nbformat_minor": 0,
  "metadata": {
    "colab": {
      "provenance": [],
      "machine_shape": "hm",
      "gpuType": "A100",
      "toc_visible": true
    },
    "kernelspec": {
      "name": "python3",
      "display_name": "Python 3"
    },
    "language_info": {
      "name": "python"
    },
    "accelerator": "GPU"
  },
  "cells": [
    {
      "cell_type": "markdown",
      "source": [
        "# NLP 作業3"
      ],
      "metadata": {
        "id": "tviVzP_SwyXb"
      }
    },
    {
      "cell_type": "markdown",
      "source": [
        "## 安裝需要的套件"
      ],
      "metadata": {
        "id": "jAzwpzejw1Ce"
      }
    },
    {
      "cell_type": "code",
      "execution_count": null,
      "metadata": {
        "id": "_q3hH0xzwLZ-"
      },
      "outputs": [],
      "source": [
        "!pip install datasets\n",
        "!pip install evaluate\n",
        "!pip install seqeval"
      ]
    },
    {
      "cell_type": "code",
      "source": [
        "import datasets\n",
        "import evaluate\n",
        "import seqeval\n",
        "\n",
        "print(datasets.__version__)\n",
        "print(evaluate.__version__)"
      ],
      "metadata": {
        "id": "wguuVbw6Jrde"
      },
      "execution_count": null,
      "outputs": []
    },
    {
      "cell_type": "code",
      "source": [
        "! pip list | grep seqeval"
      ],
      "metadata": {
        "id": "fiJ-cKUTKI5M"
      },
      "execution_count": null,
      "outputs": []
    },
    {
      "cell_type": "code",
      "source": [
        "import torch\n",
        "\n",
        "# 測試現在這個 Colab 環境是否已經使用 GPU\n",
        "# 否則等下可能會需要重新啟動 Colab 環境\n",
        "torch.cuda.is_available() # 結果需要顯示為 True"
      ],
      "metadata": {
        "id": "0JUdNklYKlOJ"
      },
      "execution_count": null,
      "outputs": []
    },
    {
      "cell_type": "markdown",
      "source": [
        "## Start"
      ],
      "metadata": {
        "id": "mD1q9cIKxA0K"
      }
    },
    {
      "cell_type": "code",
      "source": [
        "from transformers import AutoTokenizer\n",
        "from transformers import AutoModelForTokenClassification\n",
        "from transformers import DataCollatorForTokenClassification\n",
        "from transformers import TrainingArguments, Trainer\n",
        "from transformers import EvalPrediction"
      ],
      "metadata": {
        "id": "MGQZbjb1w4vt"
      },
      "execution_count": null,
      "outputs": []
    },
    {
      "cell_type": "code",
      "source": [
        "MODEL_NAME = \"bert-base-uncased\"\n",
        "DATA_NAME = \"ncbi_disease\"\n",
        "TRAIN_BATCH_SIZE = 16\n",
        "EVAL_BATCH_SIZE = 20\n",
        "NUM_TRAIN_EPOCHS = 3\n",
        "LEARNING_RATE = 2e-5"
      ],
      "metadata": {
        "id": "7hO-usJVyzoB"
      },
      "execution_count": null,
      "outputs": []
    },
    {
      "cell_type": "code",
      "source": [
        "# 載入資料集\n",
        "dataset = datasets.load_dataset(DATA_NAME, trust_remote_code=True)"
      ],
      "metadata": {
        "id": "1dYTeyvFw4td"
      },
      "execution_count": null,
      "outputs": []
    },
    {
      "cell_type": "code",
      "source": [
        "# 檢查每個 split 的數量\n",
        "\n",
        "for data_type in [\"train\", \"validation\", \"test\"]:\n",
        "    print(f\"{data_type}: {len(dataset[data_type])} samples\")"
      ],
      "metadata": {
        "id": "gcZk5nwCL9V5"
      },
      "execution_count": null,
      "outputs": []
    },
    {
      "cell_type": "code",
      "source": [
        "# Show NER tag names\n",
        "label_names = dataset[\"train\"].features[\"ner_tags\"].feature.names\n",
        "print(label_names)"
      ],
      "metadata": {
        "id": "fosvNq1rzLvc"
      },
      "execution_count": null,
      "outputs": []
    },
    {
      "cell_type": "code",
      "source": [
        "# 觀察資料\n",
        "first_example = dataset[\"train\"][1]\n",
        "print(type(first_example))\n",
        "\n",
        "for k, v in first_example.items():\n",
        "    print(f\"{k}: {v}\")"
      ],
      "metadata": {
        "id": "FJhYcbL5wxET"
      },
      "execution_count": null,
      "outputs": []
    },
    {
      "cell_type": "code",
      "source": [
        "# TODO1: 建立 tokenizer\n",
        "\n",
        "tokenizer = # Write your code here"
      ],
      "metadata": {
        "id": "nZ3x1ukQwxu1"
      },
      "execution_count": null,
      "outputs": []
    },
    {
      "cell_type": "code",
      "source": [
        "tokenized_inputs = tokenizer(\n",
        "        first_example[\"tokens\"],\n",
        "        truncation=True,\n",
        "        is_split_into_words=True,\n",
        ")\n",
        "print(\"Tokenized 後的結果：\")\n",
        "print(tokenized_inputs)\n",
        "print(\"Tokenized 後的 word_ids：\")\n",
        "print(tokenized_inputs.word_ids())\n",
        "\n",
        "print(\"原始資料的 labels：\")\n",
        "print(first_example[\"ner_tags\"])\n",
        "print(\"我們下一步需要轉換 labels 為：\")\n",
        "print(\"[-100, 0, 0, 0, 0, 0, 0, 0, 0, 0, 0, 0, 1, 2, 2, 2, 2, 2, 2, 2, 2, 2, 0, 0, 0, -100]\")"
      ],
      "metadata": {
        "id": "0thRmtm1x9k7"
      },
      "execution_count": null,
      "outputs": []
    },
    {
      "cell_type": "code",
      "source": [
        "# TODO2: labels 處理\n",
        "# 我們可以發現資料集的 labels (ner_tags) 是以 word 為單位\n",
        "# 但是我們要使用的 tokenizer (如 BERT 的 tokenizer) 會把 word 切成 subwords\n",
        "# 因此要針對 labels 的部分進行處理\n",
        "\n",
        "def tokenize_and_align_labels(example):\n",
        "    original_labels = example[\"ner_tags\"]\n",
        "\n",
        "    tokenized_inputs = tokenizer(\n",
        "        example[\"tokens\"],\n",
        "        truncation=True,\n",
        "        is_split_into_words=True,\n",
        "    )\n",
        "    word_ids = tokenized_inputs.word_ids()\n",
        "    labels = []\n",
        "    current_word_idx = None\n",
        "    for word_idx in word_ids:\n",
        "        # Write your code here\n",
        "        # Hints:\n",
        "        # (1) [CLS] or [SEP] 設為 -100\n",
        "        # (2) 由左至右給予新的 labels，\n",
        "        # 因此需要 current_word_idx\n",
        "        # 來幫助我們觀察下個 token 是否進到新的 word，還是是 上一個 word 的 sub-word\n",
        "\n",
        "    tokenized_inputs[\"labels\"] = labels\n",
        "    return tokenized_inputs"
      ],
      "metadata": {
        "id": "L_Ouqx7zxSJl"
      },
      "execution_count": null,
      "outputs": []
    },
    {
      "cell_type": "code",
      "source": [
        "tokenized_datasets = dataset.map(\n",
        "    tokenize_and_align_labels,\n",
        "    batched=False,\n",
        "    remove_columns=dataset[\"train\"].column_names,\n",
        ")"
      ],
      "metadata": {
        "id": "ofAMB2351rbm"
      },
      "execution_count": null,
      "outputs": []
    },
    {
      "cell_type": "code",
      "source": [
        "tokenized_datasets[\"train\"]"
      ],
      "metadata": {
        "id": "w6d2IJR410sQ"
      },
      "execution_count": null,
      "outputs": []
    },
    {
      "cell_type": "code",
      "source": [
        "data_collator = DataCollatorForTokenClassification(tokenizer=tokenizer)"
      ],
      "metadata": {
        "id": "OGT9XdOE4k69"
      },
      "execution_count": null,
      "outputs": []
    },
    {
      "cell_type": "code",
      "source": [
        "fake_batch = [tokenized_datasets[\"train\"][i] for i in range(2)]\n",
        "batch = data_collator(fake_batch)\n",
        "batch[\"labels\"]"
      ],
      "metadata": {
        "id": "RRrget9K5r6p"
      },
      "execution_count": null,
      "outputs": []
    },
    {
      "cell_type": "code",
      "source": [
        "# TODO3: 建立 id -> label (`id2label`) 以及 label -> id (`label2id`) 的轉換\n",
        "# `id2label` 和 `label2id` 都是 Python dict，且 key 跟 value 都是 int\n",
        "\n",
        "id2label = # Write your code here\n",
        "label2id = # Write your code here"
      ],
      "metadata": {
        "id": "h8JhtyZE3XRv"
      },
      "execution_count": null,
      "outputs": []
    },
    {
      "cell_type": "code",
      "source": [
        "model = AutoModelForTokenClassification.from_pretrained(\n",
        "    MODEL_NAME,\n",
        "    num_labels=len(label_names),\n",
        "    id2label=id2label,\n",
        "    label2id=label2id\n",
        ")"
      ],
      "metadata": {
        "id": "78AaFWrZ4UzX"
      },
      "execution_count": null,
      "outputs": []
    },
    {
      "cell_type": "code",
      "source": [
        "# 檢查模型是否確實被設定為3種類別輸出\n",
        "model.config.num_labels"
      ],
      "metadata": {
        "id": "MDpmnOCm87yY"
      },
      "execution_count": null,
      "outputs": []
    },
    {
      "cell_type": "code",
      "source": [
        "# TODO4: 設定 TrainingArguments\n",
        "\n",
        "training_args = TrainingArguments(\n",
        "    # Write your code here\n",
        "    report_to='tensorboard',\n",
        "    push_to_hub=False,\n",
        ")"
      ],
      "metadata": {
        "id": "PKK38fCq7bQF"
      },
      "execution_count": null,
      "outputs": []
    },
    {
      "cell_type": "code",
      "source": [
        "# TODO5: 完成 compute_metrics\n",
        "\n",
        "metric = evaluate.load(\"seqeval\")\n",
        "\n",
        "def compute_metrics(eval_pred: EvalPrediction):\n",
        "    predictions, labels = eval_pred.predictions, eval_pred.label_ids\n",
        "    # Write your code here\n",
        "\n",
        "    return # Write your code here"
      ],
      "metadata": {
        "id": "shP1Z1WF8Dh1"
      },
      "execution_count": null,
      "outputs": []
    },
    {
      "cell_type": "code",
      "source": [
        "# TODO6: set up trainer\n",
        "\n",
        "trainer = Trainer(\n",
        "    # Write your code here\n",
        "    data_collator=data_collator,\n",
        "    compute_metrics=compute_metrics,\n",
        ")"
      ],
      "metadata": {
        "id": "bHY3mnN67-OP"
      },
      "execution_count": null,
      "outputs": []
    },
    {
      "cell_type": "markdown",
      "source": [
        "### 相關官方文件連結\n",
        "- [TokenClassifierOutput](https://huggingface.co/docs/transformers/en/main_classes/output#transformers.modeling_outputs.TokenClassifierOutput)\n",
        "- [EvalPrediction](https://huggingface.co/docs/transformers/internal/trainer_utils#transformers.EvalPrediction)"
      ],
      "metadata": {
        "id": "nRCXWjn97H5C"
      }
    },
    {
      "cell_type": "code",
      "source": [
        "# compute_metrics 模擬測試區\n",
        "\n",
        "eval_dataloader = trainer.get_eval_dataloader()\n",
        "batch = next(iter(eval_dataloader))\n",
        "with torch.no_grad():\n",
        "    outputs = model(**{k: v.to(model.device) for k, v in batch.items()})\n",
        "print(f\"AutoModelForTokenClassification 輸出的型態為: {type(outputs)}\")\n",
        "print(f\"Logits shape: {outputs.logits.shape}\")\n",
        "print(f\"Labels shape: {batch['labels'].shape}\")\n",
        "print(f\"Loss: {outputs.loss.item()}\")\n",
        "print(f\"Type of `outputs.loss`: {type(outputs.loss)}\")\n",
        "print(f\"Type of `outputs.loss.item()`: {type(outputs.loss.item())}\")\n",
        "print()\n",
        "\n",
        "# 取得 logits 和 labels\n",
        "logits = outputs.logits.cpu().numpy()\n",
        "labels = batch[\"labels\"].cpu().numpy()\n",
        "\n",
        "# 建立 EvalPrediction 模擬 compute_metrics 呼叫\n",
        "mock_eval = EvalPrediction(\n",
        "    predictions=logits,\n",
        "    label_ids=labels,\n",
        ")\n",
        "print(f\"Trainer 在輸進去 compute_metrics 前的型態為: {type(mock_eval)}\")\n",
        "\n",
        "# 呼叫你自己寫的 metrics function\n",
        "metrics = compute_metrics(mock_eval)\n",
        "for k, v in metrics.items():\n",
        "    print(f\"{k}: {v}\")"
      ],
      "metadata": {
        "id": "JBEZnGyP7HLU"
      },
      "execution_count": null,
      "outputs": []
    },
    {
      "cell_type": "code",
      "source": [
        "trainer.train()"
      ],
      "metadata": {
        "id": "R4k0716e8Rvp"
      },
      "execution_count": null,
      "outputs": []
    },
    {
      "cell_type": "code",
      "source": [
        "trainer.evaluate(tokenized_datasets[\"test\"])"
      ],
      "metadata": {
        "id": "0C__62C7Jif2"
      },
      "execution_count": null,
      "outputs": []
    },
    {
      "cell_type": "code",
      "source": [],
      "metadata": {
        "id": "ItVUtZQNMuBA"
      },
      "execution_count": null,
      "outputs": []
    }
  ]
}